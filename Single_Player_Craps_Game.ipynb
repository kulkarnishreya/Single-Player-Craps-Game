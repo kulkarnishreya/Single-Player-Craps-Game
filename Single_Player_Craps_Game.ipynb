{
  "nbformat": 4,
  "nbformat_minor": 0,
  "metadata": {
    "colab": {
      "name": "Single Player Craps Game",
      "provenance": [],
      "collapsed_sections": [],
      "authorship_tag": "ABX9TyNWr8fCPwWPKtcclaPSeFbo",
      "include_colab_link": true
    },
    "kernelspec": {
      "name": "python3",
      "display_name": "Python 3"
    },
    "language_info": {
      "name": "python"
    }
  },
  "cells": [
    {
      "cell_type": "markdown",
      "metadata": {
        "id": "view-in-github",
        "colab_type": "text"
      },
      "source": [
        "<a href=\"https://colab.research.google.com/github/kulkarnishreya/Single-Player-Craps-Game/blob/main/Single_Player_Craps_Game.ipynb\" target=\"_parent\"><img src=\"https://colab.research.google.com/assets/colab-badge.svg\" alt=\"Open In Colab\"/></a>"
      ]
    },
    {
      "cell_type": "markdown",
      "source": [
        "Motive:\n",
        "* Create simple games and/or simulations that involve random numbers."
      ],
      "metadata": {
        "id": "903vaGdJ6GGo"
      }
    },
    {
      "cell_type": "markdown",
      "source": [
        "### Single-player *Craps* Game\n",
        "\n",
        "Complete the function `craps`, which plays the casino game *Craps* for one player. Here is a summary of how the game is played:\n",
        "\n",
        "1. The player rolls two six-sided dice. The total that appears is called his *point*.\n",
        "\n",
        " * The point can be an immediate winner (7 or 11), and the game ends.\n",
        "\n",
        " * The point can be an immediate loser (2 or 3), and the game ends.\n",
        "\n",
        "1. If the point is not 2, 3, 7 or 11, the player keeps rolling the dice until he hits his point again (and wins) or he rolls a 7 (and loses).\n",
        "Note that in this version of Craps there is no user interaction. The computer simply rolls the dice – including to determine the point – until the player wins or loses.\n",
        "\n",
        "The function returns two values, in this order:\n",
        "\n",
        "* `True` or `False`, which indicates whether the player won (`True`) or lost (`False`)\n",
        "\n",
        "* The number of times the dice were rolled. The first roll is considered roll #1."
      ],
      "metadata": {
        "id": "Y-WxsRzx6OAJ"
      }
    },
    {
      "cell_type": "code",
      "source": [
        "import random\n",
        "\n",
        "def craps():\n",
        "    number = 1\n",
        "    die_1 = random.randint(1,6)\n",
        "    die_2 = random.randint(1,6)\n",
        "    point = die_1 + die_2\n",
        "    if point == 7 or point == 11:\n",
        "        return True, 1\n",
        "    if point == 2 or point == 3:\n",
        "        return False, 1\n",
        "    while point!= 7:\n",
        "        die_1 = random.randint(1,6)\n",
        "        die_2 = random.randint(1,6)\n",
        "        sum = die_1 + die_2\n",
        "        number += 1\n",
        "        if sum == point:\n",
        "            return True, number\n",
        "        if sum == 7:\n",
        "            return False, number             \n",
        "\n",
        "\n",
        "# The code below will call your function numerous times to check the result.\n",
        "# If your simulation is correct, the player should win approximately 49.7% of the time,\n",
        "# and the average number of rolls per game should be approximately 2.8.\n",
        "games = 100000\n",
        "total_wins = 0\n",
        "total_rolls = 0\n",
        "for i in range(games):\n",
        "    result, num_rolls = craps()\n",
        "    total_wins += 1 if result else 0\n",
        "    total_rolls += num_rolls\n",
        "\n",
        "print(f'Winning percentage:     {100*total_wins/games:.2f}% (should be approximately 49.7%)')\n",
        "print(f'Average rolls per game: {total_rolls/games:.2f} (should be approximately 3.5)')"
      ],
      "metadata": {
        "colab": {
          "base_uri": "https://localhost:8080/"
        },
        "id": "bHVXewLt6f2O",
        "outputId": "773f9426-d0fb-4e43-c010-e33b87e58a9a"
      },
      "execution_count": 5,
      "outputs": [
        {
          "output_type": "stream",
          "name": "stdout",
          "text": [
            "Winning percentage:     49.72% (should be approximately 49.7%)\n",
            "Average rolls per game: 3.53 (should be approximately 3.5)\n"
          ]
        }
      ]
    }
  ]
}